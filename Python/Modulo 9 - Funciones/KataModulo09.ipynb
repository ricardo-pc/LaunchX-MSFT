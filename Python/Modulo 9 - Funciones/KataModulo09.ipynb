{
 "cells": [
  {
   "cell_type": "markdown",
   "metadata": {},
   "source": [
    "### Resumen"
   ]
  },
  {
   "cell_type": "markdown",
   "metadata": {},
   "source": [
    "| Función      | Descripción |\n",
    "| ----------- | ----------- |\n",
    "| def ():      | Función sin argumento       |\n",
    "| any()   | Toma un objeto iterable y devuelve True si algún elemento del objeto iterable es True        |\n",
    "| def (*args):   | Función en la que se usan argumentos de variable, permite pasar cualquier número de argumentos incluyendo el 0.        |\n",
    "| def (**kwargs):   | Función que acepta cualquier número de argumentos de palabra clave.        |"
   ]
  },
  {
   "cell_type": "markdown",
   "metadata": {},
   "source": [
    "### Ejercicio 1: Trabajar con argumentos en funciones"
   ]
  },
  {
   "cell_type": "code",
   "execution_count": 2,
   "metadata": {},
   "outputs": [],
   "source": [
    "# Función para leer 3 tanques de combustible y muestre el promedio\n",
    "def combustible(tanque1, tanque2, tanque3):\n",
    "    promedio_combustible = (tanque1 + tanque2 + tanque3) / 3\n",
    "    return promedio_combustible"
   ]
  },
  {
   "cell_type": "code",
   "execution_count": 3,
   "metadata": {},
   "outputs": [
    {
     "data": {
      "text/plain": [
       "3.0"
      ]
     },
     "execution_count": 3,
     "metadata": {},
     "output_type": "execute_result"
    }
   ],
   "source": [
    "# Llamamos a la función que genera el reporte\n",
    "combustible(1,3,5)"
   ]
  },
  {
   "cell_type": "code",
   "execution_count": 7,
   "metadata": {},
   "outputs": [
    {
     "data": {
      "text/plain": [
       "82.0"
      ]
     },
     "execution_count": 7,
     "metadata": {},
     "output_type": "execute_result"
    }
   ],
   "source": [
    "# Función promedio\n",
    "def promedio(values):\n",
    "    total = sum(values)\n",
    "    number_of_items = len(values)\n",
    "    return total / number_of_items\n",
    "\n",
    "# Probando función de promedio\n",
    "promedio([80,85,81])"
   ]
  },
  {
   "cell_type": "code",
   "execution_count": 10,
   "metadata": {},
   "outputs": [
    {
     "data": {
      "text/plain": [
       "32.0"
      ]
     },
     "execution_count": 10,
     "metadata": {},
     "output_type": "execute_result"
    }
   ],
   "source": [
    "# Actualiza la función\n",
    "def combustible(tanque1, tanque2, tanque3):\n",
    "    return promedio([tanque1, tanque2, tanque3])\n",
    "\n",
    "# Probando función\n",
    "combustible(30,32,34)"
   ]
  },
  {
   "cell_type": "markdown",
   "metadata": {},
   "source": [
    "### Ejercicio 2: Trabajo con argumentos de palabra clave"
   ]
  },
  {
   "cell_type": "code",
   "execution_count": 13,
   "metadata": {},
   "outputs": [
    {
     "name": "stdout",
     "output_type": "stream",
     "text": [
      "\n",
      "    Misión hacia Luna\n",
      "    Tiempo total de vuelo: 65 minutos\n",
      "    Combustible total disponible: 500000 galones \n",
      "    \n"
     ]
    }
   ],
   "source": [
    "# Función con un informe preciso de la misión. \n",
    "def informe_cohete(hora_prelanzamiento, tiempo_vuelo, destino, tanque_ext, tanque_int):\n",
    "    return f\"\"\"\n",
    "    Misión hacia {destino}\n",
    "    Tiempo total de vuelo: {hora_prelanzamiento + tiempo_vuelo} minutos\n",
    "    Combustible total disponible: {tanque_ext + tanque_int} galones \n",
    "    \"\"\"\n",
    "\n",
    "# Probando función\n",
    "print(informe_cohete(14, 51, \"Luna\", 200000, 300000))"
   ]
  },
  {
   "cell_type": "code",
   "execution_count": 15,
   "metadata": {},
   "outputs": [
    {
     "name": "stdout",
     "output_type": "stream",
     "text": [
      "\n",
      "    Misión hacia Luna\n",
      "    Tiempo total de viaje: 76 minutos\n",
      "    Gasolina total disponible: 800000\n",
      "    \n"
     ]
    }
   ],
   "source": [
    "# Escribe tu nueva función de reporte considerando lo anterior\n",
    "def informe_cohete(destino, *minutos, **tanques):\n",
    "    return f\"\"\"\n",
    "    Misión hacia {destino}\n",
    "    Tiempo total de viaje: {sum(minutos)} minutos\n",
    "    Gasolina total disponible: {sum(tanques.values())}\n",
    "    \"\"\"\n",
    "\n",
    "print(informe_cohete(\"Luna\", 10, 15, 51, main=300000, external=500000))"
   ]
  },
  {
   "cell_type": "code",
   "execution_count": 16,
   "metadata": {},
   "outputs": [
    {
     "name": "stdout",
     "output_type": "stream",
     "text": [
      "\n",
      "    Misión hacia Luna\n",
      "    Tiempo total de viaje: 74 minutos\n",
      "    Gasolina total disponible: 500000\n",
      "    main tanque --> 300000 galones sobrantes\n",
      "external tanque --> 200000 galones sobrantes\n",
      "\n"
     ]
    }
   ],
   "source": [
    "# Escribe tu nueva función\n",
    "def informe_cohete(destino, *minutos, **tanques):\n",
    "    reporte = f\"\"\"\n",
    "    Misión hacia {destino}\n",
    "    Tiempo total de viaje: {sum(minutos)} minutos\n",
    "    Gasolina total disponible: {sum(tanques.values())}\n",
    "    \"\"\"\n",
    "    for nombre_tanque, galones in tanques.items():\n",
    "        reporte += f'{nombre_tanque} tanque --> {galones} galones sobrantes\\n'\n",
    "    return reporte\n",
    "\n",
    "print(informe_cohete(\"Luna\", 8, 11, 55, main=300000, external=200000))"
   ]
  },
  {
   "cell_type": "code",
   "execution_count": null,
   "metadata": {},
   "outputs": [],
   "source": []
  }
 ],
 "metadata": {
  "interpreter": {
   "hash": "a3daf0f7a9832186ccb906c203d991ae97b77f45a3203c1cbd24bbd7c455fe84"
  },
  "kernelspec": {
   "display_name": "Python 3.8.8 ('base')",
   "language": "python",
   "name": "python3"
  },
  "language_info": {
   "codemirror_mode": {
    "name": "ipython",
    "version": 3
   },
   "file_extension": ".py",
   "mimetype": "text/x-python",
   "name": "python",
   "nbconvert_exporter": "python",
   "pygments_lexer": "ipython3",
   "version": "3.8.8"
  },
  "orig_nbformat": 4
 },
 "nbformat": 4,
 "nbformat_minor": 2
}
