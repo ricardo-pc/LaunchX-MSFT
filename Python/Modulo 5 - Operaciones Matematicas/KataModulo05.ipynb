{
 "cells": [
  {
   "cell_type": "markdown",
   "metadata": {},
   "source": [
    "### Ejercicio 1: Utilizar operadores aritméticos"
   ]
  },
  {
   "cell_type": "code",
   "execution_count": 8,
   "metadata": {},
   "outputs": [
    {
     "name": "stdout",
     "output_type": "stream",
     "text": [
      "628949330\n",
      "390577533\n"
     ]
    }
   ],
   "source": [
    "from math import ceil, floor\n",
    "\n",
    "Tierra = 149597870 # km \n",
    "Jupiter = 778547200 # km\n",
    "\n",
    "Distancia = abs(Tierra - Jupiter)\n",
    "print(floor(Distancia))\n",
    "Distancia_Millas = abs((Tierra - Jupiter))*0.621\n",
    "print(floor(Distancia_Millas))"
   ]
  },
  {
   "cell_type": "markdown",
   "metadata": {},
   "source": [
    "### Ejercicio 2: convierte cadenas en números y usa valores absolutos"
   ]
  },
  {
   "cell_type": "code",
   "execution_count": 9,
   "metadata": {},
   "outputs": [],
   "source": [
    "# Almacenar las entradas del usuario\n",
    "primer_planeta = input(\"Introduzca la distancia desde el sol hasta el primer planeta en Km\")\n",
    "segundo_planeta = input(\"Introduzca la distancia desde el sol hasta el segundo planeta en Km\")"
   ]
  },
  {
   "cell_type": "code",
   "execution_count": 10,
   "metadata": {},
   "outputs": [],
   "source": [
    "# Convierte las cadenas de ambos planetas a número enteros\n",
    "primer_planeta = int(primer_planeta)\n",
    "segundo_planeta = int(segundo_planeta)"
   ]
  },
  {
   "cell_type": "code",
   "execution_count": 12,
   "metadata": {},
   "outputs": [
    {
     "name": "stdout",
     "output_type": "stream",
     "text": [
      "2755501200.0\n"
     ]
    }
   ],
   "source": [
    "# Realizar el cálculo y convertir a valor absoluto\n",
    "Distancia_Planetas = segundo_planeta - primer_planeta\n",
    "Distancia_Planetas = abs(Distancia_Planetas)\n",
    "\n",
    "# Convertir de Km a Millas\n",
    "Distancia_Planetas_Millas = Distancia_Planetas*0.621\n",
    "print(Distancia_Planetas_Millas)"
   ]
  },
  {
   "cell_type": "code",
   "execution_count": null,
   "metadata": {},
   "outputs": [],
   "source": []
  }
 ],
 "metadata": {
  "interpreter": {
   "hash": "a3daf0f7a9832186ccb906c203d991ae97b77f45a3203c1cbd24bbd7c455fe84"
  },
  "kernelspec": {
   "display_name": "Python 3.8.8 ('base')",
   "language": "python",
   "name": "python3"
  },
  "language_info": {
   "codemirror_mode": {
    "name": "ipython",
    "version": 3
   },
   "file_extension": ".py",
   "mimetype": "text/x-python",
   "name": "python",
   "nbconvert_exporter": "python",
   "pygments_lexer": "ipython3",
   "version": "3.8.8"
  },
  "orig_nbformat": 4
 },
 "nbformat": 4,
 "nbformat_minor": 2
}
