{
 "cells": [
  {
   "cell_type": "markdown",
   "metadata": {},
   "source": [
    "| Función      | Descripción |\n",
    "| ----------- | ----------- |\n",
    "| variable[]      | Acceder a cualquier elemento de una lista poneindo el index entre [] después del nombre de la variable       |\n",
    "| variable[] = \"str\"   | Modificar los valores de una lista mediante un índice        |\n",
    "| len() | Obtener la longitud de una lista |\n",
    "| .append(value) | Agregar un elemento a una lista |\n",
    "| .pop() | Eliminar el último elemento de una lista |\n",
    "| .index() | Determinar en qué parte de una lista se almacena un valor |\n",
    "| min() & max() | Devuelve el número más grande y el más pequeño |\n",
    "| lista[i:n] | Crear una nueva lista que comienza en el índice inicial y que termina antes (y no incluye) el índice final |\n",
    "| lista + lista | Unir listas |\n",
    "| .sort() | Ordenar una lista en orden alfabético y una lista de números en orden numérico |\n",
    "| .sort(reverse=True) | Order una lista en forma inversa |"
   ]
  },
  {
   "cell_type": "markdown",
   "metadata": {},
   "source": [
    "### Ejercicio 1: Crear y usar lista de Python"
   ]
  },
  {
   "cell_type": "code",
   "execution_count": 7,
   "metadata": {},
   "outputs": [],
   "source": [
    "# Creamos la lista planets y la mostramos\n",
    "planets = ['Mercury', 'Venus', 'Earth', 'Mars', 'Jupiter', 'Saturn', 'Uranus', 'Neptune']"
   ]
  },
  {
   "cell_type": "code",
   "execution_count": 8,
   "metadata": {},
   "outputs": [
    {
     "name": "stdout",
     "output_type": "stream",
     "text": [
      "El número de planetas son 9\n",
      "El último planeta de la lista es Plutón\n"
     ]
    }
   ],
   "source": [
    "# Agregamos a plutón y mostramos el último elemento\n",
    "planets.append('Plutón')\n",
    "\n",
    "# Mostrar número de planetas\n",
    "print(f'El número de planetas son {len(planets)}')\n",
    "\n",
    "# Mostrar el último planeta de la lista\n",
    "print(f'El último planeta de la lista es {planets[-1]}')"
   ]
  },
  {
   "cell_type": "markdown",
   "metadata": {},
   "source": [
    "### Ejercicio 2: Trabajando con datos de una lista"
   ]
  },
  {
   "cell_type": "code",
   "execution_count": 9,
   "metadata": {},
   "outputs": [
    {
     "name": "stdout",
     "output_type": "stream",
     "text": [
      "Los planetas más cercanos al sol son: ['Mercury', 'Venus', 'Earth']\n",
      "Los planetas más lejanos al sol son: ['Jupiter', 'Saturn', 'Neptune']\n"
     ]
    }
   ],
   "source": [
    "# Lista de planetas\n",
    "planets = ['Mercury', 'Venus', 'Earth', 'Mars', 'Jupiter', 'Saturn', 'Neptune']\n",
    "\n",
    "# Solicitamos el nombre de un planeta\n",
    "nombre_planeta = input(\"Ingresar el nombre de un planeta capitalizando la palabra\")\n",
    "\n",
    "# Busca el planeta en la lista\n",
    "posicion_planeta = planets.index(nombre_planeta)\n",
    "\n",
    "# Muestra los planetas más cercano al sol\n",
    "print(f'Los planetas más cercanos al sol son: {planets[0:posicion_planeta]}')\n",
    "\n",
    "# Muesta los planetas más lejanos al sol\n",
    "print(f'Los planetas más lejanos al sol son: {planets[posicion_planeta + 1:]}')"
   ]
  },
  {
   "cell_type": "code",
   "execution_count": null,
   "metadata": {},
   "outputs": [],
   "source": []
  }
 ],
 "metadata": {
  "interpreter": {
   "hash": "a3daf0f7a9832186ccb906c203d991ae97b77f45a3203c1cbd24bbd7c455fe84"
  },
  "kernelspec": {
   "display_name": "Python 3.8.8 ('base')",
   "language": "python",
   "name": "python3"
  },
  "language_info": {
   "codemirror_mode": {
    "name": "ipython",
    "version": 3
   },
   "file_extension": ".py",
   "mimetype": "text/x-python",
   "name": "python",
   "nbconvert_exporter": "python",
   "pygments_lexer": "ipython3",
   "version": "3.8.8"
  },
  "orig_nbformat": 4
 },
 "nbformat": 4,
 "nbformat_minor": 2
}
